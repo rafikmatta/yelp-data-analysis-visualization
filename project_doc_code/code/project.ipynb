{
 "cells": [
  {
   "cell_type": "code",
   "execution_count": 2,
   "metadata": {},
   "outputs": [],
   "source": [
    "import random\n",
    "import math\n",
    "from math import sin, cos, sqrt, atan2, radians\n",
    "import numpy as np\n",
    "import matplotlib.pyplot as plt\n",
    "import pandas as pd \n",
    "import locale\n",
    "from locale import atof\n",
    "import requests\n",
    "import json \n",
    "%matplotlib inline\n",
    "import folium\n",
    "import os \n",
    "import plotly.plotly as py\n",
    "import plotly.graph_objs as go\n",
    "from gmplot import gmplot"
   ]
  },
  {
   "cell_type": "markdown",
   "metadata": {},
   "source": [
    "# Raw Data "
   ]
  },
  {
   "cell_type": "markdown",
   "metadata": {},
   "source": [
    "## Yelp"
   ]
  },
  {
   "cell_type": "code",
   "execution_count": 3,
   "metadata": {},
   "outputs": [],
   "source": [
    "df_yelp = pd.read_json('data/yelp_tor_data.json')\n",
    "df_yelp = df_yelp.reset_index()\n",
    "coordinates = df_yelp['coordinates']\n",
    "new_lat = []\n",
    "new_long = []\n",
    "for i in range(0,len(coordinates)):\n",
    "    temp_lat = coordinates[i]['latitude']\n",
    "    temp_long = coordinates[i]['longitude']\n",
    "    new_lat.append(temp_lat)\n",
    "    new_long.append(temp_long)\n",
    "df_yelp['lat'] = new_lat\n",
    "df_yelp['long'] = new_long"
   ]
  },
  {
   "cell_type": "markdown",
   "metadata": {},
   "source": [
    "## Neighbourhoods"
   ]
  },
  {
   "cell_type": "code",
   "execution_count": 4,
   "metadata": {},
   "outputs": [],
   "source": [
    "df_n_profiles = pd.read_csv('data/2016_neighbourhood_profiles-test.csv',encoding='ANSI')"
   ]
  },
  {
   "cell_type": "markdown",
   "metadata": {},
   "source": [
    "## Neighborhood Coordinates"
   ]
  },
  {
   "cell_type": "code",
   "execution_count": 5,
   "metadata": {},
   "outputs": [],
   "source": [
    "df_neighborhoods = pd.read_csv('data/to_neighbor_coordinates.csv')\n",
    "neighborhood_ids = df_n_profiles[df_neighborhoods['name']][0:1].T\n",
    "df_neighborhoods['id'] = neighborhood_ids.values"
   ]
  },
  {
   "cell_type": "markdown",
   "metadata": {},
   "source": [
    "## Join Yelp and Neigborhood Data "
   ]
  },
  {
   "cell_type": "code",
   "execution_count": 6,
   "metadata": {},
   "outputs": [],
   "source": [
    "# approximate radius of earth in km\n",
    "def calc_distance(lat1,lon1,lat2,lon2):\n",
    "    R = 6373.0\n",
    "    lat1 = radians(lat1)\n",
    "    lon1 = radians(lon1)\n",
    "    lat2 = radians(lat2)\n",
    "    lon2 = radians(lon2)\n",
    "    dlon = lon2 - lon1\n",
    "    dlat = lat2 - lat1\n",
    "    a = sin(dlat / 2)**2 + cos(lat1) * cos(lat2) * sin(dlon / 2)**2\n",
    "    c = 2 * atan2(sqrt(a), sqrt(1 - a))\n",
    "    distance = R * c\n",
    "    return(distance)"
   ]
  },
  {
   "cell_type": "code",
   "execution_count": 7,
   "metadata": {},
   "outputs": [],
   "source": [
    "list_of_hoods = []\n",
    "list_of_ids = []\n",
    "for i in range(0,len(df_yelp['lat'])):\n",
    "    current_id = 0\n",
    "    current_hood = ''\n",
    "    current_distance = 1000000000\n",
    "    for j in range(0,len(df_neighborhoods['lat'])):\n",
    "        distance = calc_distance(df_neighborhoods['lat'][j],df_neighborhoods['lng'][j],df_yelp['lat'][i],df_yelp['long'][i])\n",
    "        if distance<current_distance:\n",
    "            current_distance = distance\n",
    "            current_hood = df_neighborhoods['name'][j]\n",
    "            current_id = int(df_neighborhoods['id'][j])\n",
    "    list_of_hoods.append(current_hood)\n",
    "    list_of_ids.append(current_id)\n",
    "df_yelp['neighborhoods'] = list_of_hoods\n",
    "df_yelp['neighborhood_ids'] = list_of_ids"
   ]
  },
  {
   "cell_type": "markdown",
   "metadata": {},
   "source": [
    "# Geovizulations"
   ]
  },
  {
   "cell_type": "markdown",
   "metadata": {},
   "source": [
    "## Google Maps Plot to Verify"
   ]
  },
  {
   "cell_type": "code",
   "execution_count": 8,
   "metadata": {},
   "outputs": [],
   "source": [
    "# Place map\n",
    "gmap = gmplot.GoogleMapPlotter(43.652466, -79.378781,13)\n",
    "\n",
    "gmap.scatter(df_neighborhoods['lat'], df_neighborhoods['lng'],'#ff0000',marker=False,size=80)\n",
    "gmap.scatter(df_yelp['lat'], df_yelp['long'], '#3B0B39', size=40, marker=False)\n",
    "\n",
    "# Marker\n",
    "hidden_gem_lat, hidden_gem_lon = 37.770776, -122.461689\n",
    "gmap.marker(37.770776, -122.461689, 'cornflowerblue')\n",
    "\n",
    "# Draw\n",
    "gmap.draw(\"google_maps.html\")"
   ]
  },
  {
   "cell_type": "markdown",
   "metadata": {},
   "source": [
    "## Find most densley populated restaurants"
   ]
  },
  {
   "cell_type": "code",
   "execution_count": 11,
   "metadata": {},
   "outputs": [],
   "source": [
    "df_neighborhoods_agg = df_yelp.groupby(['neighborhood_ids'],as_index=False).count()\n",
    "df_neighborhoods_agg = df_neighborhoods_agg[['neighborhood_ids','level_0']]\n",
    "restaurants_greater_than_100 = df_neighborhoods_agg[df_neighborhoods_agg['level_0'] > 100]"
   ]
  },
  {
   "cell_type": "code",
   "execution_count": 12,
   "metadata": {},
   "outputs": [
    {
     "data": {
      "text/html": [
       "<div>\n",
       "<style scoped>\n",
       "    .dataframe tbody tr th:only-of-type {\n",
       "        vertical-align: middle;\n",
       "    }\n",
       "\n",
       "    .dataframe tbody tr th {\n",
       "        vertical-align: top;\n",
       "    }\n",
       "\n",
       "    .dataframe thead th {\n",
       "        text-align: right;\n",
       "    }\n",
       "</style>\n",
       "<table border=\"1\" class=\"dataframe\">\n",
       "  <thead>\n",
       "    <tr style=\"text-align: right;\">\n",
       "      <th></th>\n",
       "      <th>Unnamed: 0</th>\n",
       "      <th>lat</th>\n",
       "      <th>lng</th>\n",
       "      <th>name</th>\n",
       "      <th>id</th>\n",
       "    </tr>\n",
       "  </thead>\n",
       "  <tbody>\n",
       "    <tr>\n",
       "      <th>3</th>\n",
       "      <td>3</td>\n",
       "      <td>43.669833</td>\n",
       "      <td>-79.407585</td>\n",
       "      <td>Annex</td>\n",
       "      <td>95.0</td>\n",
       "    </tr>\n",
       "    <tr>\n",
       "      <th>14</th>\n",
       "      <td>14</td>\n",
       "      <td>43.675863</td>\n",
       "      <td>-79.338106</td>\n",
       "      <td>Blake-Jones</td>\n",
       "      <td>69.0</td>\n",
       "    </tr>\n",
       "    <tr>\n",
       "      <th>19</th>\n",
       "      <td>19</td>\n",
       "      <td>43.653203</td>\n",
       "      <td>-79.381140</td>\n",
       "      <td>Cabbagetown-South St. James Town</td>\n",
       "      <td>71.0</td>\n",
       "    </tr>\n",
       "    <tr>\n",
       "      <th>43</th>\n",
       "      <td>43</td>\n",
       "      <td>43.653226</td>\n",
       "      <td>-79.383184</td>\n",
       "      <td>Glenfield-Jane Heights</td>\n",
       "      <td>25.0</td>\n",
       "    </tr>\n",
       "    <tr>\n",
       "      <th>44</th>\n",
       "      <td>44</td>\n",
       "      <td>43.679545</td>\n",
       "      <td>-79.326840</td>\n",
       "      <td>Greenwood-Coxwell</td>\n",
       "      <td>65.0</td>\n",
       "    </tr>\n",
       "  </tbody>\n",
       "</table>\n",
       "</div>"
      ],
      "text/plain": [
       "    Unnamed: 0        lat        lng                              name    id\n",
       "3            3  43.669833 -79.407585                             Annex  95.0\n",
       "14          14  43.675863 -79.338106                       Blake-Jones  69.0\n",
       "19          19  43.653203 -79.381140  Cabbagetown-South St. James Town  71.0\n",
       "43          43  43.653226 -79.383184            Glenfield-Jane Heights  25.0\n",
       "44          44  43.679545 -79.326840                 Greenwood-Coxwell  65.0"
      ]
     },
     "execution_count": 12,
     "metadata": {},
     "output_type": "execute_result"
    }
   ],
   "source": [
    "restaurants_greater_than_100_df = df_neighborhoods[df_neighborhoods['id'].isin(restaurants_greater_than_100['neighborhood_ids'])]\n",
    "restaurants_greater_than_100_df.head()"
   ]
  },
  {
   "cell_type": "markdown",
   "metadata": {},
   "source": [
    "## Plot Choropleth of Restaurant Density"
   ]
  },
  {
   "cell_type": "code",
   "execution_count": 11,
   "metadata": {},
   "outputs": [],
   "source": [
    "# import the library\n",
    "neighborhoods_geo = os.path.join('data', 'toronto_geojson.json')\n",
    "\n",
    "m = folium.Map(location=[43.652466, -79.378781],zoom_start=13)\n",
    "\n",
    "m.choropleth(\n",
    "    geo_data=open(neighborhoods_geo),\n",
    "    topojson='objects.toronto',\n",
    "    name='choropleth',\n",
    "    data=df_neighborhoods_agg,\n",
    "    columns=['neighborhood_ids','level_0'],\n",
    "    key_on='feature.properties.id',\n",
    "    fill_color='YlGn',\n",
    "    fill_opacity=0.7,\n",
    "    line_opacity=0.2,\n",
    "    legend_name='Number of Restaurants'\n",
    ")\n",
    "\n",
    "folium.LayerControl().add_to(m)\n",
    "m.save('number_of_restaurants_map.html')"
   ]
  },
  {
   "cell_type": "markdown",
   "metadata": {},
   "source": [
    "# Income"
   ]
  },
  {
   "cell_type": "markdown",
   "metadata": {},
   "source": [
    "## Income for All of Toronto"
   ]
  },
  {
   "cell_type": "code",
   "execution_count": 29,
   "metadata": {},
   "outputs": [],
   "source": [
    "df_income_distribution = pd.read_csv('data/income_distribution.csv')"
   ]
  },
  {
   "cell_type": "code",
   "execution_count": 33,
   "metadata": {},
   "outputs": [
    {
     "data": {
      "text/html": [
       "<iframe id=\"igraph\" scrolling=\"no\" style=\"border:none;\" seamless=\"seamless\" src=\"https://plot.ly/~rafikmatta/39.embed\" height=\"600px\" width=\"1000px\"></iframe>"
      ],
      "text/plain": [
       "<plotly.tools.PlotlyDisplay object>"
      ]
     },
     "execution_count": 33,
     "metadata": {},
     "output_type": "execute_result"
    }
   ],
   "source": [
    "data = [go.Bar(\n",
    "            x=df_income_distribution['Category'],\n",
    "            y=df_income_distribution['Amount']\n",
    "    )]\n",
    "\n",
    "layout = go.Layout(\n",
    "    title='Toronto Income Distribution',\n",
    "    xaxis=dict(title='Income Category ($)',\n",
    "        titlefont=dict(\n",
    "            size=16,\n",
    "            color='rgb(107, 107, 107)')),\n",
    "    yaxis=dict(\n",
    "        title='Amount',\n",
    "        titlefont=dict(\n",
    "            size=16,\n",
    "            color='rgb(107, 107, 107)'\n",
    "        )\n",
    "    ),\n",
    "    width=1000,\n",
    "    height=600,\n",
    "     margin=go.Margin(\n",
    "        l=100,\n",
    "        r=100,\n",
    "        b=150,\n",
    "        t=50,\n",
    "        pad=4\n",
    "    ),\n",
    ")\n",
    "\n",
    "fig = go.Figure(data=data, layout=layout)\n",
    "\n",
    "py.iplot(fig, filename='income_bar')"
   ]
  },
  {
   "cell_type": "markdown",
   "metadata": {},
   "source": [
    "## Average Income for Top Neighborhoods"
   ]
  },
  {
   "cell_type": "code",
   "execution_count": 15,
   "metadata": {},
   "outputs": [],
   "source": [
    "df_income = df_n_profiles[df_n_profiles.Characteristic==\"  After-tax income: Average amount ($)\"]\n",
    "list_of_neigborhoods = list(restaurants_greater_than_100_df['name'])\n",
    "df_income = df_income[list_of_neigborhoods]\n",
    "columns = ['Category','Topic','Data Source',\"City of Toronto\"]\n",
    "df_income = df_income.T\n",
    "df_income.columns = ['After-tax income: Average amount ($)']\n",
    "df_income = df_income.sort_values(by='After-tax income: Average amount ($)',ascending=False)"
   ]
  },
  {
   "cell_type": "code",
   "execution_count": 34,
   "metadata": {},
   "outputs": [
    {
     "data": {
      "text/html": [
       "<iframe id=\"igraph\" scrolling=\"no\" style=\"border:none;\" seamless=\"seamless\" src=\"https://plot.ly/~rafikmatta/41.embed\" height=\"600px\" width=\"1000px\"></iframe>"
      ],
      "text/plain": [
       "<plotly.tools.PlotlyDisplay object>"
      ]
     },
     "execution_count": 34,
     "metadata": {},
     "output_type": "execute_result"
    }
   ],
   "source": [
    "data = [go.Bar(\n",
    "            x=df_income.index.values,\n",
    "            y=df_income.values\n",
    "    )]\n",
    "\n",
    "layout = go.Layout(\n",
    "    title='Average Income by Neighborhood',\n",
    "    xaxis=dict(title='Neighborhood',\n",
    "        titlefont=dict(\n",
    "            size=16,\n",
    "            color='rgb(107, 107, 107)'\n",
    "        )),\n",
    "    yaxis=dict(\n",
    "        title='CAD',\n",
    "        titlefont=dict(\n",
    "            size=16,\n",
    "            color='rgb(107, 107, 107)'\n",
    "        )\n",
    "    ),\n",
    "    width=1000,\n",
    "    height=600,\n",
    "     margin=go.Margin(\n",
    "        l=50,\n",
    "        r=50,\n",
    "        b=150,\n",
    "        t=50,\n",
    "        pad=4\n",
    "    )\n",
    ")\n",
    "\n",
    "fig = go.Figure(data=data, layout=layout)\n",
    "\n",
    "py.iplot(fig, filename='income-by-hood')"
   ]
  },
  {
   "cell_type": "markdown",
   "metadata": {},
   "source": [
    "# Ethnic Origin"
   ]
  },
  {
   "cell_type": "code",
   "execution_count": 16,
   "metadata": {},
   "outputs": [],
   "source": [
    "df_ethnic_origin = df_n_profiles[df_n_profiles.Category==\"Ethnic origin\"]\n",
    "list_of_neigborhoods = list(restaurants_greater_than_100_df['name'])\n",
    "list_of_neigborhoods.append('Characteristic')\n",
    "df_ethnic_origin = df_ethnic_origin[list_of_neigborhoods]\n",
    "df_ethnic_origin = df_ethnic_origin.set_index('Characteristic').T.drop(['Total - Ethnic origin for the population in private households - 25% sample data'],axis=1)"
   ]
  },
  {
   "cell_type": "markdown",
   "metadata": {},
   "source": [
    "## Top Ethnicities in Toronto"
   ]
  },
  {
   "cell_type": "code",
   "execution_count": 20,
   "metadata": {},
   "outputs": [],
   "source": [
    "df_ethnic_origins = pd.read_csv('data/ethnic_origins.csv')"
   ]
  },
  {
   "cell_type": "code",
   "execution_count": 21,
   "metadata": {},
   "outputs": [
    {
     "data": {
      "text/html": [
       "<div>\n",
       "<style scoped>\n",
       "    .dataframe tbody tr th:only-of-type {\n",
       "        vertical-align: middle;\n",
       "    }\n",
       "\n",
       "    .dataframe tbody tr th {\n",
       "        vertical-align: top;\n",
       "    }\n",
       "\n",
       "    .dataframe thead th {\n",
       "        text-align: right;\n",
       "    }\n",
       "</style>\n",
       "<table border=\"1\" class=\"dataframe\">\n",
       "  <thead>\n",
       "    <tr style=\"text-align: right;\">\n",
       "      <th></th>\n",
       "      <th>Ethnic Origin</th>\n",
       "      <th>Amount</th>\n",
       "    </tr>\n",
       "  </thead>\n",
       "  <tbody>\n",
       "    <tr>\n",
       "      <th>0</th>\n",
       "      <td>North American Aboriginal origins</td>\n",
       "      <td>35,630</td>\n",
       "    </tr>\n",
       "    <tr>\n",
       "      <th>1</th>\n",
       "      <td>Other North American origins</td>\n",
       "      <td>345,710</td>\n",
       "    </tr>\n",
       "    <tr>\n",
       "      <th>2</th>\n",
       "      <td>British Isles origins</td>\n",
       "      <td>597,295</td>\n",
       "    </tr>\n",
       "    <tr>\n",
       "      <th>3</th>\n",
       "      <td>French origins</td>\n",
       "      <td>122,870</td>\n",
       "    </tr>\n",
       "    <tr>\n",
       "      <th>4</th>\n",
       "      <td>Western European origins</td>\n",
       "      <td>187,190</td>\n",
       "    </tr>\n",
       "    <tr>\n",
       "      <th>5</th>\n",
       "      <td>Northern European origins</td>\n",
       "      <td>36,720</td>\n",
       "    </tr>\n",
       "    <tr>\n",
       "      <th>6</th>\n",
       "      <td>Eastern European origins</td>\n",
       "      <td>302,485</td>\n",
       "    </tr>\n",
       "    <tr>\n",
       "      <th>7</th>\n",
       "      <td>Southern European origins</td>\n",
       "      <td>441,485</td>\n",
       "    </tr>\n",
       "    <tr>\n",
       "      <th>8</th>\n",
       "      <td>Other European origins</td>\n",
       "      <td>42,130</td>\n",
       "    </tr>\n",
       "    <tr>\n",
       "      <th>9</th>\n",
       "      <td>Caribbean origins</td>\n",
       "      <td>165,735</td>\n",
       "    </tr>\n",
       "    <tr>\n",
       "      <th>10</th>\n",
       "      <td>Latin; Central and South American origins</td>\n",
       "      <td>113,820</td>\n",
       "    </tr>\n",
       "    <tr>\n",
       "      <th>11</th>\n",
       "      <td>Central and West African origins</td>\n",
       "      <td>31,135</td>\n",
       "    </tr>\n",
       "    <tr>\n",
       "      <th>12</th>\n",
       "      <td>North African origins</td>\n",
       "      <td>19,510</td>\n",
       "    </tr>\n",
       "    <tr>\n",
       "      <th>13</th>\n",
       "      <td>Southern and East African origins</td>\n",
       "      <td>56,405</td>\n",
       "    </tr>\n",
       "    <tr>\n",
       "      <th>14</th>\n",
       "      <td>Other African origins</td>\n",
       "      <td>41,955</td>\n",
       "    </tr>\n",
       "    <tr>\n",
       "      <th>15</th>\n",
       "      <td>West Central Asian and Middle Eastern origins</td>\n",
       "      <td>152,055</td>\n",
       "    </tr>\n",
       "    <tr>\n",
       "      <th>16</th>\n",
       "      <td>South Asian origins</td>\n",
       "      <td>350,040</td>\n",
       "    </tr>\n",
       "    <tr>\n",
       "      <th>17</th>\n",
       "      <td>East and Southeast Asian origins</td>\n",
       "      <td>586,515</td>\n",
       "    </tr>\n",
       "    <tr>\n",
       "      <th>18</th>\n",
       "      <td>Australian</td>\n",
       "      <td>3,705</td>\n",
       "    </tr>\n",
       "    <tr>\n",
       "      <th>19</th>\n",
       "      <td>New Zealander</td>\n",
       "      <td>1,230</td>\n",
       "    </tr>\n",
       "    <tr>\n",
       "      <th>20</th>\n",
       "      <td>Pacific Islands origins</td>\n",
       "      <td>1,025</td>\n",
       "    </tr>\n",
       "  </tbody>\n",
       "</table>\n",
       "</div>"
      ],
      "text/plain": [
       "                                    Ethnic Origin   Amount\n",
       "0               North American Aboriginal origins   35,630\n",
       "1                    Other North American origins  345,710\n",
       "2                           British Isles origins  597,295\n",
       "3                                  French origins  122,870\n",
       "4                        Western European origins  187,190\n",
       "5                      Northern European origins    36,720\n",
       "6                        Eastern European origins  302,485\n",
       "7                       Southern European origins  441,485\n",
       "8                          Other European origins   42,130\n",
       "9                               Caribbean origins  165,735\n",
       "10      Latin; Central and South American origins  113,820\n",
       "11               Central and West African origins   31,135\n",
       "12                          North African origins   19,510\n",
       "13              Southern and East African origins   56,405\n",
       "14                          Other African origins   41,955\n",
       "15  West Central Asian and Middle Eastern origins  152,055\n",
       "16                            South Asian origins  350,040\n",
       "17               East and Southeast Asian origins  586,515\n",
       "18                                     Australian    3,705\n",
       "19                                  New Zealander    1,230\n",
       "20                        Pacific Islands origins    1,025"
      ]
     },
     "execution_count": 21,
     "metadata": {},
     "output_type": "execute_result"
    }
   ],
   "source": [
    "df_ethnic_origins"
   ]
  },
  {
   "cell_type": "code",
   "execution_count": 32,
   "metadata": {
    "scrolled": false
   },
   "outputs": [
    {
     "data": {
      "text/html": [
       "<iframe id=\"igraph\" scrolling=\"no\" style=\"border:none;\" seamless=\"seamless\" src=\"https://plot.ly/~rafikmatta/43.embed\" height=\"600px\" width=\"1000px\"></iframe>"
      ],
      "text/plain": [
       "<plotly.tools.PlotlyDisplay object>"
      ]
     },
     "execution_count": 32,
     "metadata": {},
     "output_type": "execute_result"
    }
   ],
   "source": [
    "data = [go.Bar(\n",
    "            x=df_ethnic_origins['Ethnic Origin'],\n",
    "            y=df_ethnic_origins['Amount']\n",
    "    )]\n",
    "\n",
    "layout = go.Layout(\n",
    "    title='Top 20 Ethnic Origins',\n",
    "    xaxis=dict(\n",
    "        title='Origin',\n",
    "        titlefont=dict(\n",
    "            size=16,\n",
    "            color='rgb(107, 107, 107)'\n",
    "        )),\n",
    "    yaxis=dict(\n",
    "        title='Amount',\n",
    "        titlefont=dict(\n",
    "            size=16,\n",
    "            color='rgb(107, 107, 107)'\n",
    "        )\n",
    "    ),\n",
    "    width=1000,\n",
    "    height=600,\n",
    "     margin=go.Margin(\n",
    "        l=100,\n",
    "        r=50,\n",
    "        b=150,\n",
    "        t=50,\n",
    "        pad=4\n",
    "    )\n",
    ")\n",
    "\n",
    "fig = go.Figure(data=data, layout=layout)\n",
    "\n",
    "py.iplot(fig, filename='ethnic_bar_chart')"
   ]
  },
  {
   "cell_type": "markdown",
   "metadata": {},
   "source": [
    "## Ethnicities By Neighborhood"
   ]
  },
  {
   "cell_type": "code",
   "execution_count": 35,
   "metadata": {},
   "outputs": [],
   "source": [
    "df_ethnic_origin_by_hood = pd.read_csv('data/ethnic_origins_by_hood.csv',encoding='ANSI')"
   ]
  },
  {
   "cell_type": "code",
   "execution_count": 36,
   "metadata": {},
   "outputs": [],
   "source": [
    "list_of_neigborhoods = list(restaurants_greater_than_100_df['name'])\n",
    "list_of_neigborhoods.append('Category')\n",
    "df_ethnic_origin_by_hood = df_ethnic_origin_by_hood[list_of_neigborhoods]\n",
    "df_ethnic_origin_by_hood = df_ethnic_origin_by_hood.fillna(0)\n",
    "df_ethnic_origin_by_hood = df_ethnic_origin_by_hood.set_index('Category')"
   ]
  },
  {
   "cell_type": "code",
   "execution_count": 59,
   "metadata": {},
   "outputs": [
    {
     "data": {
      "text/html": [
       "<iframe id=\"igraph\" scrolling=\"no\" style=\"border:none;\" seamless=\"seamless\" src=\"https://plot.ly/~rafikmatta/10.embed\" height=\"800px\" width=\"1000px\"></iframe>"
      ],
      "text/plain": [
       "<plotly.tools.PlotlyDisplay object>"
      ]
     },
     "execution_count": 59,
     "metadata": {},
     "output_type": "execute_result"
    }
   ],
   "source": [
    "trace = go.Heatmap(z=df_ethnic_origin_by_hood.values,\n",
    "                   y=list(df_ethnic_origin_by_hood.index.values),\n",
    "                   x=list(df_ethnic_origin_by_hood.columns),\n",
    "                   colorscale='Reds')\n",
    "\n",
    "layout = go.Layout(\n",
    "    title='Ethnic Origins Distribution by Neighborhood',\n",
    "    width=1000,\n",
    "    height=800,\n",
    "     margin=go.Margin(\n",
    "        l=300,\n",
    "        r=150,\n",
    "        b=250,\n",
    "        t=50,\n",
    "        pad=4\n",
    "    ),\n",
    ")\n",
    "data=[trace]\n",
    "\n",
    "fig = go.Figure(data=data, layout=layout)\n",
    "\n",
    "py.iplot(fig, filename='labelled-heatmap')"
   ]
  },
  {
   "cell_type": "code",
   "execution_count": 96,
   "metadata": {},
   "outputs": [],
   "source": [
    "df_yelp[['categories']].set_index('categories').to_csv('categories_all.csv')"
   ]
  },
  {
   "cell_type": "markdown",
   "metadata": {},
   "source": [
    "# Ratings"
   ]
  },
  {
   "cell_type": "markdown",
   "metadata": {},
   "source": [
    "## Ratings Overall Toronto"
   ]
  },
  {
   "cell_type": "code",
   "execution_count": 22,
   "metadata": {},
   "outputs": [],
   "source": [
    "df_ratings = df_yelp.groupby('rating').agg(['count'])"
   ]
  },
  {
   "cell_type": "code",
   "execution_count": 23,
   "metadata": {},
   "outputs": [],
   "source": [
    "df_ratings = df_ratings[['level_0']]\n",
    "df_ratings.columns = ['count']"
   ]
  },
  {
   "cell_type": "code",
   "execution_count": 29,
   "metadata": {},
   "outputs": [
    {
     "data": {
      "text/html": [
       "<iframe id=\"igraph\" scrolling=\"no\" style=\"border:none;\" seamless=\"seamless\" src=\"https://plot.ly/~rafikmatta/45.embed\" height=\"800px\" width=\"800px\"></iframe>"
      ],
      "text/plain": [
       "<plotly.tools.PlotlyDisplay object>"
      ]
     },
     "execution_count": 29,
     "metadata": {},
     "output_type": "execute_result"
    }
   ],
   "source": [
    "labels = ['0','1','1.5','2','2.5','3','3.5','4','4.5','5']\n",
    "values = df_ratings['count'].values\n",
    "colors = ['#FEBFB3', '#E1396C', '#96D38C', '#D0F9B1']\n",
    "\n",
    "trace = go.Pie(labels=labels, values=values,\n",
    "               hoverinfo='label+percent', textinfo='value', \n",
    "               textfont=dict(size=20),\n",
    "               marker=dict(colors=colors, \n",
    "                           line=dict(color='#000000', width=2)))\n",
    "\n",
    "layout = go.Layout(\n",
    "    title='Rating Distribution of Restaurants in Toronto from Yelp',\n",
    "    width=800,\n",
    "    height=800\n",
    ")\n",
    "\n",
    "\n",
    "data=[trace]\n",
    "\n",
    "fig = go.Figure(data=data, layout=layout)\n",
    "\n",
    "py.iplot(fig, filename='ratings_pie_chart')"
   ]
  },
  {
   "cell_type": "markdown",
   "metadata": {},
   "source": [
    "## Ratings by Neighborhood"
   ]
  },
  {
   "cell_type": "code",
   "execution_count": 38,
   "metadata": {},
   "outputs": [],
   "source": [
    "df_ratings_hood = df_yelp[df_yelp['neighborhood_ids'].isin(restaurants_greater_than_100['neighborhood_ids'])]\n",
    "df_ratings_hood = df_ratings_hood.groupby('neighborhoods')['rating'].agg(['mean'])\n",
    "df_ratings_hood = df_ratings_hood.sort_values(by='mean',ascending=False)"
   ]
  },
  {
   "cell_type": "code",
   "execution_count": 39,
   "metadata": {},
   "outputs": [],
   "source": [
    "df_neighborhoods_rating = df_yelp.pivot_table(index='neighborhoods', columns='rating', values='transactions',aggfunc='count')\n",
    "df_neighborhoods_rating = df_neighborhoods_rating.fillna(0)"
   ]
  },
  {
   "cell_type": "code",
   "execution_count": 40,
   "metadata": {},
   "outputs": [],
   "source": [
    "df_neighborhoods_rating = df_neighborhoods_rating.loc[restaurants_greater_than_100_df['name']]"
   ]
  },
  {
   "cell_type": "code",
   "execution_count": 43,
   "metadata": {},
   "outputs": [
    {
     "data": {
      "text/html": [
       "<iframe id=\"igraph\" scrolling=\"no\" style=\"border:none;\" seamless=\"seamless\" src=\"https://plot.ly/~rafikmatta/47.embed\" height=\"800px\" width=\"1000px\"></iframe>"
      ],
      "text/plain": [
       "<plotly.tools.PlotlyDisplay object>"
      ]
     },
     "execution_count": 43,
     "metadata": {},
     "output_type": "execute_result"
    }
   ],
   "source": [
    "trace = go.Heatmap(z=df_neighborhoods_rating.values,\n",
    "                   y=list(df_neighborhoods_rating.index.values),\n",
    "                   x=list(df_neighborhoods_rating.columns),\n",
    "                   colorscale='Reds')\n",
    "\n",
    "layout = go.Layout(\n",
    "    title='Distribution of Ratings (1-5) by Neighborhood',\n",
    "    width=1000,\n",
    "    height=800,\n",
    "     margin=go.Margin(\n",
    "        l=300,\n",
    "        r=150,\n",
    "        b=150,\n",
    "        t=50,\n",
    "        pad=4\n",
    "    ),\n",
    ")\n",
    "data=[trace]\n",
    "\n",
    "fig = go.Figure(data=data, layout=layout)\n",
    "\n",
    "py.iplot(fig, filename='ratings_heatmap')"
   ]
  },
  {
   "cell_type": "markdown",
   "metadata": {},
   "source": [
    "## Ratings Box Plot"
   ]
  },
  {
   "cell_type": "code",
   "execution_count": 44,
   "metadata": {},
   "outputs": [],
   "source": [
    "df_ratings_hood2 = df_yelp[df_yelp['neighborhood_ids'].isin(restaurants_greater_than_100['neighborhood_ids'])]"
   ]
  },
  {
   "cell_type": "code",
   "execution_count": 45,
   "metadata": {},
   "outputs": [],
   "source": [
    "list_of_hoods = df_ratings_hood2['neighborhoods']\n",
    "list_of_hoods = list(list_of_hoods.unique())\n",
    "list_of_lists = []\n",
    "for i in range(0,len(list_of_hoods)):\n",
    "    list_of_lists.append(list(df_ratings_hood2[df_ratings_hood2['neighborhoods']==list_of_hoods[i]]['rating'].values))"
   ]
  },
  {
   "cell_type": "code",
   "execution_count": 46,
   "metadata": {},
   "outputs": [
    {
     "data": {
      "text/html": [
       "<iframe id=\"igraph\" scrolling=\"no\" style=\"border:none;\" seamless=\"seamless\" src=\"https://plot.ly/~rafikmatta/55.embed\" height=\"800px\" width=\"1000px\"></iframe>"
      ],
      "text/plain": [
       "<plotly.tools.PlotlyDisplay object>"
      ]
     },
     "execution_count": 46,
     "metadata": {},
     "output_type": "execute_result"
    }
   ],
   "source": [
    "trace0 = go.Box(y=list_of_lists[0],name = list_of_hoods[0])\n",
    "trace1 = go.Box(y=list_of_lists[1],name = list_of_hoods[1])\n",
    "trace2 = go.Box(y=list_of_lists[2],name = list_of_hoods[2])\n",
    "trace3 = go.Box(y=list_of_lists[3],name = list_of_hoods[3])\n",
    "trace4 = go.Box(y=list_of_lists[4],name = list_of_hoods[4])\n",
    "trace5 = go.Box(y=list_of_lists[5],name = list_of_hoods[5])\n",
    "trace6 = go.Box(y=list_of_lists[6],name = list_of_hoods[6])\n",
    "trace7 = go.Box(y=list_of_lists[7],name = list_of_hoods[7])\n",
    "trace8 = go.Box(y=list_of_lists[8],name = list_of_hoods[8])\n",
    "trace9 = go.Box(y=list_of_lists[9],name = list_of_hoods[9])\n",
    "trace10 = go.Box(y=list_of_lists[10],name = list_of_hoods[10])\n",
    "trace11 = go.Box(y=list_of_lists[11],name = list_of_hoods[11])\n",
    "trace12 = go.Box(y=list_of_lists[12],name = list_of_hoods[12])\n",
    "trace13 = go.Box(y=list_of_lists[13],name = list_of_hoods[13])\n",
    "trace14 = go.Box(y=list_of_lists[14],name = list_of_hoods[14])\n",
    "trace15 = go.Box(y=list_of_lists[15],name = list_of_hoods[15])\n",
    "trace16 = go.Box(y=list_of_lists[16],name = list_of_hoods[16])\n",
    "trace17 = go.Box(y=list_of_lists[17],name = list_of_hoods[17])\n",
    "trace18 = go.Box(y=list_of_lists[18],name = list_of_hoods[18])\n",
    "trace19 = go.Box(y=list_of_lists[19],name = list_of_hoods[19])\n",
    "trace20 = go.Box(y=list_of_lists[20],name = list_of_hoods[20])\n",
    "\n",
    "data = [trace0,trace1,trace2,trace3,trace4,trace5,trace6,trace7,trace8,trace9,\n",
    "        trace10,trace11,trace12,trace13,trace14,trace15,trace16,trace17,trace18,trace19,\n",
    "        trace20]\n",
    "\n",
    "layout = go.Layout(\n",
    "    title='Rating Distribution of Restaurants in Toronto from Yelp',\n",
    "    width=1000,\n",
    "    height=800,\n",
    "    margin=go.Margin(\n",
    "        l=50,\n",
    "        r=150,\n",
    "        b=150,\n",
    "        t=50,\n",
    "        pad=4\n",
    "    ),\n",
    ")\n",
    "\n",
    "fig = go.Figure(data=data, layout=layout)\n",
    "py.iplot(fig, filename='ratings_box')"
   ]
  },
  {
   "cell_type": "markdown",
   "metadata": {},
   "source": [
    "# Prices"
   ]
  },
  {
   "cell_type": "markdown",
   "metadata": {},
   "source": [
    "## Price level distribution for all toronto"
   ]
  },
  {
   "cell_type": "code",
   "execution_count": 48,
   "metadata": {},
   "outputs": [],
   "source": [
    "list_of_prices = []\n",
    "prices = df_yelp['price']\n",
    "for i in range(0,len(df_yelp['price'])):\n",
    "    if prices[i] == '$':\n",
    "        list_of_prices.append(1)\n",
    "    elif prices[i] == '$$':\n",
    "        list_of_prices.append(2)\n",
    "    elif prices[i] == '$$$':\n",
    "        list_of_prices.append(3)\n",
    "    elif prices[i] == '$$$$':\n",
    "        list_of_prices.append(4)\n",
    "    else:\n",
    "        list_of_prices.append(0)\n",
    "df_yelp['price_level'] = list_of_prices"
   ]
  },
  {
   "cell_type": "code",
   "execution_count": 49,
   "metadata": {},
   "outputs": [],
   "source": [
    "df_price_level = df_yelp.groupby(['price_level']).count()\n",
    "df_price_level['price'] = ['Unknown','Cheap','Medium','High','Expensive']\n",
    "df_price_level = df_price_level.set_index('price') "
   ]
  },
  {
   "cell_type": "code",
   "execution_count": 97,
   "metadata": {},
   "outputs": [
    {
     "data": {
      "text/html": [
       "<iframe id=\"igraph\" scrolling=\"no\" style=\"border:none;\" seamless=\"seamless\" src=\"https://plot.ly/~rafikmatta/49.embed\" height=\"800px\" width=\"800px\"></iframe>"
      ],
      "text/plain": [
       "<plotly.tools.PlotlyDisplay object>"
      ]
     },
     "execution_count": 97,
     "metadata": {},
     "output_type": "execute_result"
    }
   ],
   "source": [
    "labels = ['Unknown','Cheap','Normal','Expensive','Very Expensive']\n",
    "values = df_price_level.level_0.values\n",
    "colors = ['#FEBFB3', '#E1396C', '#96D38C', '#D0F9B1']\n",
    "\n",
    "trace = go.Pie(labels=labels, values=values,\n",
    "               hoverinfo='label+percent', textinfo='value', \n",
    "               textfont=dict(size=20),\n",
    "               marker=dict(colors=colors, \n",
    "                           line=dict(color='#000000', width=2)))\n",
    "\n",
    "layout = go.Layout(\n",
    "    title='Price Distribution of Restaurants in Toronto from Yelp',\n",
    "    width=800,\n",
    "    height=800\n",
    ")\n",
    "\n",
    "\n",
    "data=[trace]\n",
    "\n",
    "fig = go.Figure(data=data, layout=layout)\n",
    "\n",
    "py.iplot(fig, filename='prices_piechart')"
   ]
  },
  {
   "cell_type": "code",
   "execution_count": null,
   "metadata": {},
   "outputs": [],
   "source": [
    "df_price_level.plot.pie(y='neighborhoods', figsize=(15, 15),title=\"Price Distribution of Restaurants in Toronto from Yelp\");"
   ]
  },
  {
   "cell_type": "markdown",
   "metadata": {},
   "source": [
    "## Prices by Toronto Neighborhood"
   ]
  },
  {
   "cell_type": "code",
   "execution_count": 50,
   "metadata": {},
   "outputs": [],
   "source": [
    "df_neighborhoods_price = df_yelp.pivot_table(index='neighborhoods', columns='price', values='price_level',aggfunc='count')\n",
    "df_neighborhoods_price = df_neighborhoods_price.fillna(0)\n",
    "df_neighborhoods_price.columns = ['Cheap','Normal','Expensive','Very Expensive']\n",
    "df_neighborhoods_price = df_neighborhoods_price.loc[restaurants_greater_than_100_df['name']]"
   ]
  },
  {
   "cell_type": "code",
   "execution_count": 53,
   "metadata": {},
   "outputs": [
    {
     "data": {
      "text/html": [
       "<iframe id=\"igraph\" scrolling=\"no\" style=\"border:none;\" seamless=\"seamless\" src=\"https://plot.ly/~rafikmatta/51.embed\" height=\"800px\" width=\"1000px\"></iframe>"
      ],
      "text/plain": [
       "<plotly.tools.PlotlyDisplay object>"
      ]
     },
     "execution_count": 53,
     "metadata": {},
     "output_type": "execute_result"
    }
   ],
   "source": [
    "trace = go.Heatmap(z=df_neighborhoods_price.values,\n",
    "                   y=list(df_neighborhoods_price.index.values),\n",
    "                   x=list(df_neighborhoods_price.columns),\n",
    "                   colorscale='Reds')\n",
    "\n",
    "layout = go.Layout(\n",
    "    title='Price Level Distribution by Neighborhood',\n",
    "    width=1000,\n",
    "    height=800,\n",
    "     margin=go.Margin(\n",
    "        l=300,\n",
    "        r=150,\n",
    "        b=150,\n",
    "        t=50,\n",
    "        pad=4\n",
    "    ),\n",
    ")\n",
    "data=[trace]\n",
    "\n",
    "fig = go.Figure(data=data, layout=layout)\n",
    "\n",
    "py.iplot(fig, filename='prices_heatmap')"
   ]
  },
  {
   "cell_type": "markdown",
   "metadata": {},
   "source": [
    "# Prices Box Plot "
   ]
  },
  {
   "cell_type": "code",
   "execution_count": 55,
   "metadata": {},
   "outputs": [],
   "source": [
    "df_neighborhoods_price2 = df_yelp[df_yelp['neighborhood_ids'].isin(restaurants_greater_than_100['neighborhood_ids'])]"
   ]
  },
  {
   "cell_type": "code",
   "execution_count": 56,
   "metadata": {},
   "outputs": [],
   "source": [
    "list_of_hoods = df_neighborhoods_price2['neighborhoods']\n",
    "list_of_hoods = list(list_of_hoods.unique())\n",
    "list_of_lists = []\n",
    "for i in range(0,len(list_of_hoods)):\n",
    "    list_of_lists.append(list(df_neighborhoods_price2[df_neighborhoods_price2['neighborhoods']==list_of_hoods[i]]['price_level'].values))"
   ]
  },
  {
   "cell_type": "code",
   "execution_count": 57,
   "metadata": {},
   "outputs": [
    {
     "data": {
      "text/html": [
       "<iframe id=\"igraph\" scrolling=\"no\" style=\"border:none;\" seamless=\"seamless\" src=\"https://plot.ly/~rafikmatta/59.embed\" height=\"800px\" width=\"1000px\"></iframe>"
      ],
      "text/plain": [
       "<plotly.tools.PlotlyDisplay object>"
      ]
     },
     "execution_count": 57,
     "metadata": {},
     "output_type": "execute_result"
    }
   ],
   "source": [
    "trace0 = go.Box(y=list_of_lists[0],name = list_of_hoods[0])\n",
    "trace1 = go.Box(y=list_of_lists[1],name = list_of_hoods[1])\n",
    "trace2 = go.Box(y=list_of_lists[2],name = list_of_hoods[2])\n",
    "trace3 = go.Box(y=list_of_lists[3],name = list_of_hoods[3])\n",
    "trace4 = go.Box(y=list_of_lists[4],name = list_of_hoods[4])\n",
    "trace5 = go.Box(y=list_of_lists[5],name = list_of_hoods[5])\n",
    "trace6 = go.Box(y=list_of_lists[6],name = list_of_hoods[6])\n",
    "trace7 = go.Box(y=list_of_lists[7],name = list_of_hoods[7])\n",
    "trace8 = go.Box(y=list_of_lists[8],name = list_of_hoods[8])\n",
    "trace9 = go.Box(y=list_of_lists[9],name = list_of_hoods[9])\n",
    "trace10 = go.Box(y=list_of_lists[10],name = list_of_hoods[10])\n",
    "trace11 = go.Box(y=list_of_lists[11],name = list_of_hoods[11])\n",
    "trace12 = go.Box(y=list_of_lists[12],name = list_of_hoods[12])\n",
    "trace13 = go.Box(y=list_of_lists[13],name = list_of_hoods[13])\n",
    "trace14 = go.Box(y=list_of_lists[14],name = list_of_hoods[14])\n",
    "trace15 = go.Box(y=list_of_lists[15],name = list_of_hoods[15])\n",
    "trace16 = go.Box(y=list_of_lists[16],name = list_of_hoods[16])\n",
    "trace17 = go.Box(y=list_of_lists[17],name = list_of_hoods[17])\n",
    "trace18 = go.Box(y=list_of_lists[18],name = list_of_hoods[18])\n",
    "trace19 = go.Box(y=list_of_lists[19],name = list_of_hoods[19])\n",
    "trace20 = go.Box(y=list_of_lists[20],name = list_of_hoods[20])\n",
    "\n",
    "data = [trace0,trace1,trace2,trace3,trace4,trace5,trace6,trace7,trace8,trace9,\n",
    "        trace10,trace11,trace12,trace13,trace14,trace15,trace16,trace17,trace18,trace19,\n",
    "        trace20]\n",
    "\n",
    "layout = go.Layout(\n",
    "    title='Price Distribution of Restaurants in Toronto from Yelp',\n",
    "    width=1000,\n",
    "    height=800,\n",
    "     margin=go.Margin(\n",
    "        l=50,\n",
    "        r=150,\n",
    "        b=150,\n",
    "        t=50,\n",
    "        pad=4\n",
    "    ),\n",
    ")\n",
    "\n",
    "fig = go.Figure(data=data, layout=layout)\n",
    "py.iplot(fig, filename='prices_box')"
   ]
  },
  {
   "cell_type": "code",
   "execution_count": null,
   "metadata": {},
   "outputs": [],
   "source": []
  }
 ],
 "metadata": {
  "kernelspec": {
   "display_name": "Python [conda env:fb_data]",
   "language": "python",
   "name": "conda-env-fb_data-py"
  },
  "language_info": {
   "codemirror_mode": {
    "name": "ipython",
    "version": 3
   },
   "file_extension": ".py",
   "mimetype": "text/x-python",
   "name": "python",
   "nbconvert_exporter": "python",
   "pygments_lexer": "ipython3",
   "version": "3.6.3"
  }
 },
 "nbformat": 4,
 "nbformat_minor": 2
}
